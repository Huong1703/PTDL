{
  "cells": [
    {
      "cell_type": "markdown",
      "metadata": {
        "id": "view-in-github",
        "colab_type": "text"
      },
      "source": [
        "<a href=\"https://colab.research.google.com/github/Huong1703/PTDL/blob/main/03_US_Baby_Names.ipynb\" target=\"_parent\"><img src=\"https://colab.research.google.com/assets/colab-badge.svg\" alt=\"Open In Colab\"/></a>"
      ]
    },
    {
      "cell_type": "markdown",
      "metadata": {
        "pycharm": {
          "name": "#%% md\n"
        },
        "id": "GobeBCehIUTk"
      },
      "source": [
        "# US - Baby Names"
      ]
    },
    {
      "cell_type": "markdown",
      "metadata": {
        "pycharm": {
          "name": "#%% md\n"
        },
        "id": "ZNeVXqEdIUTo"
      },
      "source": [
        "### Introduction:\n",
        "\n",
        "We are going to use a subset of [US Baby Names](https://www.kaggle.com/kaggle/us-baby-names) from Kaggle.  \n",
        "In the file it will be names from 2004 until 2014\n",
        "\n",
        "\n",
        "### Step 1. Import the necessary libraries"
      ]
    },
    {
      "cell_type": "code",
      "execution_count": null,
      "metadata": {
        "pycharm": {
          "name": "#%%\n"
        },
        "id": "3zMmKPuIIUTo"
      },
      "outputs": [],
      "source": [
        "import pandas as pd\n",
        "import requests\n",
        "from io import StringIO"
      ]
    },
    {
      "cell_type": "markdown",
      "metadata": {
        "pycharm": {
          "name": "#%% md\n"
        },
        "id": "ZheEOuJDIUTp"
      },
      "source": [
        "### Step 2. Import the dataset from this [address](https://raw.githubusercontent.com/thieu1995/csv-files/main/data/pandas/US_Baby_Names_right.csv)."
      ]
    },
    {
      "cell_type": "markdown",
      "metadata": {
        "pycharm": {
          "name": "#%% md\n"
        },
        "id": "2MFmNuzbIUTq"
      },
      "source": [
        "### Step 3. Assign it to a variable called baby_names."
      ]
    },
    {
      "cell_type": "code",
      "execution_count": null,
      "metadata": {
        "pycharm": {
          "name": "#%%\n"
        },
        "colab": {
          "base_uri": "https://localhost:8080/"
        },
        "id": "IS0e9MBWIUTq",
        "outputId": "a2cc01ba-104e-431f-ebbf-5fed7c4b41d4"
      },
      "outputs": [
        {
          "output_type": "stream",
          "name": "stdout",
          "text": [
            "         Unnamed: 0       Id     Name  Year Gender State  Count\n",
            "0             11349    11350     Emma  2004      F    AK     62\n",
            "1             11350    11351  Madison  2004      F    AK     48\n",
            "2             11351    11352   Hannah  2004      F    AK     46\n",
            "3             11352    11353    Grace  2004      F    AK     44\n",
            "4             11353    11354    Emily  2004      F    AK     41\n",
            "...             ...      ...      ...   ...    ...   ...    ...\n",
            "1016390     5647421  5647422     Seth  2014      M    WY      5\n",
            "1016391     5647422  5647423  Spencer  2014      M    WY      5\n",
            "1016392     5647423  5647424     Tyce  2014      M    WY      5\n",
            "1016393     5647424  5647425   Victor  2014      M    WY      5\n",
            "1016394     5647425  5647426   Waylon  2014      M    WY      5\n",
            "\n",
            "[1016395 rows x 7 columns]\n"
          ]
        }
      ],
      "source": [
        "response = requests.get('https://raw.githubusercontent.com/thieu1995/csv-files/main/data/pandas/US_Baby_Names_right.csv')\n",
        "baby_names = pd.read_csv(StringIO(response.text))\n",
        "print(baby_names)"
      ]
    },
    {
      "cell_type": "markdown",
      "metadata": {
        "pycharm": {
          "name": "#%% md\n"
        },
        "id": "id0gZNC-IUTr"
      },
      "source": [
        "### Step 4. See the first 10 entries"
      ]
    },
    {
      "cell_type": "code",
      "execution_count": null,
      "metadata": {
        "pycharm": {
          "name": "#%%\n"
        },
        "colab": {
          "base_uri": "https://localhost:8080/"
        },
        "id": "pl6M-LYvIUTr",
        "outputId": "ac8ed14e-270f-4566-e00c-b5db027d5b28"
      },
      "outputs": [
        {
          "output_type": "stream",
          "name": "stdout",
          "text": [
            "   Unnamed: 0     Id      Name  Year Gender State  Count\n",
            "0       11349  11350      Emma  2004      F    AK     62\n",
            "1       11350  11351   Madison  2004      F    AK     48\n",
            "2       11351  11352    Hannah  2004      F    AK     46\n",
            "3       11352  11353     Grace  2004      F    AK     44\n",
            "4       11353  11354     Emily  2004      F    AK     41\n",
            "5       11354  11355   Abigail  2004      F    AK     37\n",
            "6       11355  11356    Olivia  2004      F    AK     33\n",
            "7       11356  11357  Isabella  2004      F    AK     30\n",
            "8       11357  11358    Alyssa  2004      F    AK     29\n",
            "9       11358  11359    Sophia  2004      F    AK     28\n"
          ]
        }
      ],
      "source": [
        "print(baby_names.head(10))"
      ]
    },
    {
      "cell_type": "markdown",
      "metadata": {
        "pycharm": {
          "name": "#%% md\n"
        },
        "id": "NHe_iC3uIUTr"
      },
      "source": [
        "### Step 5. Delete the column 'Unnamed: 0' and 'Id'"
      ]
    },
    {
      "cell_type": "code",
      "execution_count": null,
      "metadata": {
        "pycharm": {
          "name": "#%%\n"
        },
        "colab": {
          "base_uri": "https://localhost:8080/"
        },
        "id": "7_KW1x69IUTs",
        "outputId": "3f1bb9f2-0d66-4501-f9ac-e8f1198e08cb"
      },
      "outputs": [
        {
          "output_type": "stream",
          "name": "stdout",
          "text": [
            "            Name  Year Gender State  Count\n",
            "0           Emma  2004      F    AK     62\n",
            "1        Madison  2004      F    AK     48\n",
            "2         Hannah  2004      F    AK     46\n",
            "3          Grace  2004      F    AK     44\n",
            "4          Emily  2004      F    AK     41\n",
            "...          ...   ...    ...   ...    ...\n",
            "1016390     Seth  2014      M    WY      5\n",
            "1016391  Spencer  2014      M    WY      5\n",
            "1016392     Tyce  2014      M    WY      5\n",
            "1016393   Victor  2014      M    WY      5\n",
            "1016394   Waylon  2014      M    WY      5\n",
            "\n",
            "[1016395 rows x 5 columns]\n"
          ]
        }
      ],
      "source": [
        "columns_to_drop = ['Unnamed: 0', 'Id']\n",
        "baby_names = baby_names.drop(columns=set(columns_to_drop) & set(baby_names.columns), axis=1)\n",
        "print(baby_names)"
      ]
    },
    {
      "cell_type": "markdown",
      "metadata": {
        "pycharm": {
          "name": "#%% md\n"
        },
        "id": "abotyZ5RIUTs"
      },
      "source": [
        "### Step 6. Is there more male or female names in the dataset?"
      ]
    },
    {
      "cell_type": "code",
      "execution_count": null,
      "metadata": {
        "pycharm": {
          "name": "#%%\n"
        },
        "colab": {
          "base_uri": "https://localhost:8080/"
        },
        "id": "YIa4AyQSIUTt",
        "outputId": "05605256-9152-4f07-f971-06bd14e63f80"
      },
      "outputs": [
        {
          "output_type": "stream",
          "name": "stdout",
          "text": [
            "less than\n"
          ]
        }
      ],
      "source": [
        "gender_counts = baby_names['Gender'].value_counts()\n",
        "print(\"More\" if gender_counts['M'] > gender_counts['F'] else \"less than\")"
      ]
    },
    {
      "cell_type": "markdown",
      "metadata": {
        "pycharm": {
          "name": "#%% md\n"
        },
        "id": "JhdueMcpIUTt"
      },
      "source": [
        "### Step 7. Group the dataset by name and assign to names"
      ]
    },
    {
      "cell_type": "code",
      "execution_count": null,
      "metadata": {
        "pycharm": {
          "name": "#%%\n"
        },
        "colab": {
          "base_uri": "https://localhost:8080/"
        },
        "id": "IbZWv_iNIUTt",
        "outputId": "60fab257-2c1a-4ab7-a9a3-6da81c6a8738"
      },
      "outputs": [
        {
          "output_type": "stream",
          "name": "stdout",
          "text": [
            "            Name  Year Gender State  Count\n",
            "0           Emma  2004      F    AK     62\n",
            "1        Madison  2004      F    AK     48\n",
            "2         Hannah  2004      F    AK     46\n",
            "3          Grace  2004      F    AK     44\n",
            "4          Emily  2004      F    AK     41\n",
            "...          ...   ...    ...   ...    ...\n",
            "1004923  Gryffin  2014      M    WI      5\n",
            "1004950     Kroy  2014      M    WI      5\n",
            "1004973     Owyn  2014      M    WI      5\n",
            "1005707   Haylea  2005      F    WV      5\n",
            "1012216  Coalton  2012      M    WV      7\n",
            "\n",
            "[65502 rows x 5 columns]\n"
          ]
        }
      ],
      "source": [
        "names = baby_names.groupby('Name')\n",
        "print(names.head())"
      ]
    },
    {
      "cell_type": "markdown",
      "metadata": {
        "pycharm": {
          "name": "#%% md\n"
        },
        "id": "csMH8OPtIUTt"
      },
      "source": [
        "### Step 8. How many different names exist in the dataset?"
      ]
    },
    {
      "cell_type": "code",
      "execution_count": null,
      "metadata": {
        "pycharm": {
          "name": "#%%\n"
        },
        "colab": {
          "base_uri": "https://localhost:8080/"
        },
        "id": "3UFrejMDIUTu",
        "outputId": "d0c6eade-0ed5-4f91-d391-f96c9db68a0a"
      },
      "outputs": [
        {
          "output_type": "stream",
          "name": "stdout",
          "text": [
            "number of different names: 17632\n"
          ]
        }
      ],
      "source": [
        "num_unique_names = baby_names['Name'].nunique()\n",
        "print(\"number of different names:\", num_unique_names)"
      ]
    },
    {
      "cell_type": "markdown",
      "metadata": {
        "pycharm": {
          "name": "#%% md\n"
        },
        "id": "kZkSd6EmIUTu"
      },
      "source": [
        "### Step 9. What is the name with most occurrences?"
      ]
    },
    {
      "cell_type": "code",
      "execution_count": null,
      "metadata": {
        "pycharm": {
          "name": "#%%\n"
        },
        "colab": {
          "base_uri": "https://localhost:8080/"
        },
        "id": "qh1ljiOmIUTu",
        "outputId": "6058af12-0941-4590-8540-b3615470963f"
      },
      "outputs": [
        {
          "output_type": "stream",
          "name": "stdout",
          "text": [
            "name with most occurrences: Riley\n"
          ]
        }
      ],
      "source": [
        "name_counts = baby_names['Name'].value_counts()\n",
        "most_common_name = name_counts.idxmax()\n",
        "print(\"name with most occurrences:\", most_common_name)"
      ]
    },
    {
      "cell_type": "markdown",
      "metadata": {
        "pycharm": {
          "name": "#%% md\n"
        },
        "id": "shqEsV8RIUTu"
      },
      "source": [
        "### Step 10. How many different names have the least occurrences?"
      ]
    },
    {
      "cell_type": "code",
      "execution_count": null,
      "metadata": {
        "pycharm": {
          "name": "#%%\n"
        },
        "colab": {
          "base_uri": "https://localhost:8080/"
        },
        "id": "cJS0bGpZIUTv",
        "outputId": "5b759cdf-d7ae-464c-af2b-587016f34500"
      },
      "outputs": [
        {
          "output_type": "stream",
          "name": "stdout",
          "text": [
            "names have the least occurrences: 3682\n"
          ]
        }
      ],
      "source": [
        "min_occurrences = name_counts.min()\n",
        "num_names_with_least_occurrences = (name_counts == min_occurrences).sum()\n",
        "print(\"names have the least occurrences:\", num_names_with_least_occurrences)"
      ]
    },
    {
      "cell_type": "markdown",
      "metadata": {
        "pycharm": {
          "name": "#%% md\n"
        },
        "id": "BKIkgg0EIUTv"
      },
      "source": [
        "### Step 11. What is the median name occurrence?"
      ]
    },
    {
      "cell_type": "code",
      "execution_count": null,
      "metadata": {
        "pycharm": {
          "name": "#%%\n"
        },
        "colab": {
          "base_uri": "https://localhost:8080/"
        },
        "id": "LECnR757IUTv",
        "outputId": "9875d4b6-f5b7-4ec1-95c2-c17d998066f9"
      },
      "outputs": [
        {
          "output_type": "stream",
          "name": "stdout",
          "text": [
            "the median name occurrence: 8.0\n"
          ]
        }
      ],
      "source": [
        "median_occurrence = name_counts.median()\n",
        "print(\"the median name occurrence:\", median_occurrence)"
      ]
    },
    {
      "cell_type": "markdown",
      "metadata": {
        "pycharm": {
          "name": "#%% md\n"
        },
        "id": "mFdnORJNIUTv"
      },
      "source": [
        "### Step 12. What is the standard deviation of names?"
      ]
    },
    {
      "cell_type": "code",
      "execution_count": null,
      "metadata": {
        "pycharm": {
          "name": "#%%\n"
        },
        "colab": {
          "base_uri": "https://localhost:8080/"
        },
        "id": "f9K8T3Q3IUTw",
        "outputId": "01f38ae9-8cea-4926-88b9-87434ef2ac82"
      },
      "outputs": [
        {
          "output_type": "stream",
          "name": "stdout",
          "text": [
            "standard deviation: 122.02996350814088\n"
          ]
        }
      ],
      "source": [
        "std_deviation = name_counts.std()\n",
        "print(\"standard deviation:\", std_deviation)"
      ]
    },
    {
      "cell_type": "markdown",
      "metadata": {
        "pycharm": {
          "name": "#%% md\n"
        },
        "id": "gwrhX4yHIUTw"
      },
      "source": [
        "### Step 13. Get a summary with the mean, min, max, std and quartiles."
      ]
    },
    {
      "cell_type": "code",
      "execution_count": null,
      "metadata": {
        "pycharm": {
          "name": "#%%\n"
        },
        "colab": {
          "base_uri": "https://localhost:8080/"
        },
        "id": "oKbV0u8cIUTw",
        "outputId": "9cf6de5a-9b9a-4c44-f8f0-646852844c2c"
      },
      "outputs": [
        {
          "output_type": "stream",
          "name": "stdout",
          "text": [
            "count    17632.000000\n",
            "mean        57.644907\n",
            "std        122.029964\n",
            "min          1.000000\n",
            "25%          2.000000\n",
            "50%          8.000000\n",
            "75%         39.000000\n",
            "max       1112.000000\n",
            "Name: count, dtype: float64\n"
          ]
        }
      ],
      "source": [
        "summary = name_counts.describe()\n",
        "print(summary)"
      ]
    }
  ],
  "metadata": {
    "anaconda-cloud": {},
    "kernelspec": {
      "display_name": "Python [default]",
      "language": "python",
      "name": "python2"
    },
    "language_info": {
      "codemirror_mode": {
        "name": "ipython",
        "version": 2
      },
      "file_extension": ".py",
      "mimetype": "text/x-python",
      "name": "python",
      "nbconvert_exporter": "python",
      "pygments_lexer": "ipython2",
      "version": "2.7.11"
    },
    "colab": {
      "provenance": [],
      "include_colab_link": true
    }
  },
  "nbformat": 4,
  "nbformat_minor": 0
}