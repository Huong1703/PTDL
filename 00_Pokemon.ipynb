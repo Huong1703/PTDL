{
  "cells": [
    {
      "cell_type": "markdown",
      "metadata": {
        "id": "view-in-github",
        "colab_type": "text"
      },
      "source": [
        "<a href=\"https://colab.research.google.com/github/Huong1703/PTDL/blob/main/00_Pokemon.ipynb\" target=\"_parent\"><img src=\"https://colab.research.google.com/assets/colab-badge.svg\" alt=\"Open In Colab\"/></a>"
      ]
    },
    {
      "cell_type": "markdown",
      "metadata": {
        "pycharm": {
          "name": "#%% md\n"
        },
        "id": "yasC0MpzMkgr"
      },
      "source": [
        "# Pokemon"
      ]
    },
    {
      "cell_type": "markdown",
      "metadata": {
        "pycharm": {
          "name": "#%% md\n"
        },
        "id": "79W0uCD2Mkgu"
      },
      "source": [
        "### Introduction:\n",
        "\n",
        "This time you will create the data.\n",
        "\n",
        "\n",
        "\n",
        "### Step 1. Import the necessary libraries"
      ]
    },
    {
      "cell_type": "code",
      "execution_count": null,
      "metadata": {
        "pycharm": {
          "name": "#%%\n"
        },
        "id": "wEwHWAuEMkgv"
      },
      "outputs": [],
      "source": [
        "import pandas as pd"
      ]
    },
    {
      "cell_type": "markdown",
      "metadata": {
        "pycharm": {
          "name": "#%% md\n"
        },
        "id": "wqDsJhuUMkgw"
      },
      "source": [
        "### Step 2. Create a data dictionary that looks like the DataFrame below"
      ]
    },
    {
      "cell_type": "code",
      "execution_count": null,
      "metadata": {
        "collapsed": true,
        "pycharm": {
          "name": "#%%\n"
        },
        "colab": {
          "base_uri": "https://localhost:8080/"
        },
        "id": "pqoQ-27JMkgx",
        "outputId": "a00b084f-b985-4520-d91f-71d0b47f9165"
      },
      "outputs": [
        {
          "output_type": "stream",
          "name": "stdout",
          "text": [
            "    evolution  hp        name   type\n",
            "0     Ivysaur  45   Bulbasaur  grass\n",
            "1  Charmeleon  39  Charmander   fire\n",
            "2   Wartortle  44    Squirtle  water\n",
            "3     Metapod  45    caterpie    bug\n"
          ]
        }
      ],
      "source": [
        "data = {\n",
        "    'evolution': ['Ivysaur', 'Charmeleon', 'Wartortle', 'Metapod'],\n",
        "    'hp': ['45', '39', '44', '45'],\n",
        "    'name': ['Bulbasaur', 'Charmander', 'Squirtle', 'caterpie'],\n",
        "    'type': ['grass', 'fire', 'water', 'bug'],\n",
        "}\n",
        "\n",
        "df = pd.DataFrame(data)\n",
        "print(df)\n"
      ]
    },
    {
      "cell_type": "markdown",
      "metadata": {
        "pycharm": {
          "name": "#%% md\n"
        },
        "id": "uHQwCab4Mkgx"
      },
      "source": [
        "### Step 3. Assign it to a variable called pokemon"
      ]
    },
    {
      "cell_type": "code",
      "execution_count": null,
      "metadata": {
        "pycharm": {
          "name": "#%%\n"
        },
        "colab": {
          "base_uri": "https://localhost:8080/"
        },
        "id": "1VXtB3KWMkgy",
        "outputId": "06eaa328-1c5d-496d-ef8a-68ceeee9ca49"
      },
      "outputs": [
        {
          "output_type": "stream",
          "name": "stdout",
          "text": [
            "    evolution  hp        name pokedex   type\n",
            "0     Ivysaur  45   Bulbasaur     yes  grass\n",
            "1  Charmeleon  39  Charmander      no   fire\n",
            "2   Wartortle  44    Squirtle     yes  water\n",
            "3     Metapod  45    caterpie      no    bug\n"
          ]
        }
      ],
      "source": [
        "data = {\n",
        "    'evolution': ['Ivysaur', 'Charmeleon', 'Wartortle', 'Metapod'],\n",
        "    'hp': ['45', '39', '44', '45'],\n",
        "    'name': ['Bulbasaur', 'Charmander', 'Squirtle', 'caterpie'],\n",
        "    'pokedex': ['yes', 'no', 'yes', 'no'],\n",
        "    'type': ['grass', 'fire', 'water', 'bug'],\n",
        "}\n",
        "\n",
        "df = pd.DataFrame(data)\n",
        "print(df)\n"
      ]
    },
    {
      "cell_type": "markdown",
      "metadata": {
        "pycharm": {
          "name": "#%% md\n"
        },
        "id": "CNeW1mCAMkgy"
      },
      "source": [
        "### Step 4. Ops...it seems the DataFrame columns are in alphabetical order. Place  the order of the columns as name, type, hp, evolution, pokedex"
      ]
    },
    {
      "cell_type": "code",
      "execution_count": null,
      "metadata": {
        "pycharm": {
          "name": "#%%\n"
        },
        "colab": {
          "base_uri": "https://localhost:8080/"
        },
        "id": "3ipt7SGyMkgy",
        "outputId": "97cc1cb4-0f44-4777-da30-40c50d364a49"
      },
      "outputs": [
        {
          "output_type": "stream",
          "name": "stdout",
          "text": [
            "         name   type  hp   evolution pokedex\n",
            "0   Bulbasaur  grass  45     Ivysaur     yes\n",
            "1  Charmander   fire  39  Charmeleon      no\n",
            "2    Squirtle  water  44   Wartortle     yes\n",
            "3    caterpie    bug  45     Metapod      no\n"
          ]
        }
      ],
      "source": [
        "df = df[['name', 'type', 'hp', 'evolution', 'pokedex']]\n",
        "print(df)"
      ]
    },
    {
      "cell_type": "markdown",
      "metadata": {
        "pycharm": {
          "name": "#%% md\n"
        },
        "id": "gJ7SjtVwMkgz"
      },
      "source": [
        "### Step 5. Add another column called place, and insert what you have in mind."
      ]
    },
    {
      "cell_type": "code",
      "execution_count": null,
      "metadata": {
        "pycharm": {
          "name": "#%%\n"
        },
        "colab": {
          "base_uri": "https://localhost:8080/"
        },
        "id": "4e4zQoaKMkgz",
        "outputId": "d34cbf0b-de82-4aa5-8012-6f8f570e5a8e"
      },
      "outputs": [
        {
          "output_type": "stream",
          "name": "stdout",
          "text": [
            "         name   type  hp   evolution pokedex        place\n",
            "0   Bulbasaur  grass  45     Ivysaur     yes       Hà Nội\n",
            "1  Charmander   fire  39  Charmeleon      no  Hồ Chí Minh\n",
            "2    Squirtle  water  44   Wartortle     yes      Đà Nẵng\n",
            "3    caterpie    bug  45     Metapod      no      Cân Thơ\n"
          ]
        }
      ],
      "source": [
        "df['place'] = ['Hà Nội', 'Hồ Chí Minh', 'Đà Nẵng', 'Cân Thơ']\n",
        "print(df)"
      ]
    },
    {
      "cell_type": "markdown",
      "metadata": {
        "pycharm": {
          "name": "#%% md\n"
        },
        "id": "jj2iL-TuMkgz"
      },
      "source": [
        "### Step 6. Present the type of each column"
      ]
    },
    {
      "cell_type": "code",
      "execution_count": null,
      "metadata": {
        "pycharm": {
          "name": "#%%\n"
        },
        "colab": {
          "base_uri": "https://localhost:8080/"
        },
        "id": "X0aZ_dhqMkgz",
        "outputId": "00f8c97f-35e0-43af-aaa1-0ef1630f401f"
      },
      "outputs": [
        {
          "output_type": "stream",
          "name": "stdout",
          "text": [
            "name         object\n",
            "type         object\n",
            "hp           object\n",
            "evolution    object\n",
            "pokedex      object\n",
            "place        object\n",
            "dtype: object\n"
          ]
        }
      ],
      "source": [
        "print(df.dtypes)"
      ]
    },
    {
      "cell_type": "markdown",
      "metadata": {
        "pycharm": {
          "name": "#%% md\n"
        },
        "id": "3Fp4Lyf8Mkgz"
      },
      "source": [
        "### BONUS: Create your own question and answer it."
      ]
    },
    {
      "cell_type": "code",
      "execution_count": null,
      "metadata": {
        "collapsed": true,
        "pycharm": {
          "name": "#%%\n"
        },
        "id": "DmCvxUP4Mkgz"
      },
      "outputs": [],
      "source": []
    }
  ],
  "metadata": {
    "kernelspec": {
      "display_name": "Python 2",
      "language": "python",
      "name": "python2"
    },
    "language_info": {
      "codemirror_mode": {
        "name": "ipython",
        "version": 2
      },
      "file_extension": ".py",
      "mimetype": "text/x-python",
      "name": "python",
      "nbconvert_exporter": "python",
      "pygments_lexer": "ipython2",
      "version": "2.7.11"
    },
    "colab": {
      "provenance": [],
      "include_colab_link": true
    }
  },
  "nbformat": 4,
  "nbformat_minor": 0
}